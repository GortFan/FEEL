{
 "cells": [
  {
   "cell_type": "code",
   "execution_count": null,
   "metadata": {},
   "outputs": [],
   "source": [
    "import numpy as np\n",
    "import scipy as sp\n",
    "\n",
    "space = np.ones([6, 5])\n",
    "space[0, 0:5] = 0\n",
    "space[0:4, 1:4] = 0\n",
    "#For proton H+ to catalyst layer\n",
    "edt = sp.ndimage.distance_transform_edt(space)\n",
    "print(edt)"
   ]
  },
  {
   "cell_type": "code",
   "execution_count": null,
   "metadata": {},
   "outputs": [],
   "source": [
    "space = np.ones([7, 5])\n",
    "space[6, 0:5] = 0\n",
    "#For proton H+ to catalyst layer\n",
    "edt = sp.ndimage.distance_transform_edt(space)\n",
    "\n",
    "#Replacing some of the edt values with 0 since pillar takes up some of the catalyst layer space\n",
    "edt[0, 0:5] = 0\n",
    "edt[0:4, 1:4] = 0\n",
    "print(edt)"
   ]
  }
 ],
 "metadata": {
  "language_info": {
   "name": "python"
  }
 },
 "nbformat": 4,
 "nbformat_minor": 2
}
