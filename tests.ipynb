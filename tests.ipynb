{
 "cells": [
  {
   "cell_type": "markdown",
   "metadata": {},
   "source": [
    "Tests: \n",
    "Mapping changes to x wrt average distnace transforms \n",
    "Each test for changing x will have 2 graphs:\n",
    "1. avg distance transform from pillar to catalyst layer\n",
    "2. avg distance transfrom from oxygen surface to catalyst layer\n",
    "\n",
    "Different test ideas:\n",
    "I. Cylindrical Pillar\n",
    "1. Changing radius constant\n",
    "2. Changing height\n",
    "3. Changing sloped radius (bottom constant, top changing)\n",
    "4. Changing sloped radius (bottom changing, top constant)\n",
    "\n",
    "II. Rectangular Pillar\n",
    "1. Changing L:W Aspect Ratio \n",
    "2. Changing height\n",
    "3. Changing sloped aspect ratio (bottom constant, top changing)\n",
    "4. Changing sloped aspect ratio (bottom changing, top constant)\n",
    "\n",
    "Requirements:\n",
    "1. Function to generate a matrix and pillar structure for cylindrical\n",
    "2. Same for rectangular\n",
    "\n",
    "3. Avg distance transform helper function \n",
    "\n",
    "4. Plotting\n",
    "\n",
    "Some additional readings to do:\n",
    "1. Look into RL, Look into Bayesian"
   ]
  },
  {
   "cell_type": "markdown",
   "metadata": {},
   "source": [
    "Cylinder Class:\n",
    "\n",
    "1. Resolution (Sizing) must be high so that the curvature is approximated better \n",
    "2. Step size must be a constant integer so that each layer of the matrix has a constant integer increase/decrease\n",
    "\n",
    "Implementation:\n",
    "\n",
    "1. Enforce a x1000 scale-up on the original 25x25xh element design\n",
    "\n",
    "2. Static factory (its not enforced in python sadly but whatever) to make checks on the arguments. This ensures that stepsize is both constant and integer, as the args directly impact step size.\n"
   ]
  },
  {
   "cell_type": "code",
   "execution_count": 50,
   "metadata": {},
   "outputs": [],
   "source": [
    "import numpy as np\n",
    "from fractions import Fraction\n",
    "\n",
    "class Cylinder():\n",
    "\n",
    "    def __init__(self, r1, r2, h, hspace):\n",
    "        self.r1 = r1\n",
    "        self.r2 = r2\n",
    "        self.h = h\n",
    "        self.hspace = hspace\n",
    "\n",
    "    # Define the \"static factory\" to check args meet requirements before assigning the object to a variable\n",
    "    @classmethod\n",
    "    def create_cylinder(cls, r1, r2, h, hspace):\n",
    "        slope = Fraction(r1-r2, h)\n",
    "        if (slope % 1 != 0):\n",
    "            raise ValueError(\"Step size is not an integer. This wont work for gradual slope increase for matrix\")\n",
    "        if (r2 > 25000):\n",
    "            raise ValueError(\"Radaii greater than element dimensions\")\n",
    "        \n",
    "        return cls(r1, r2, h, hspace)\n",
    "    \n",
    "    def construct_space(self):\n",
    "        slope = Fraction(self.r1-self.r2, self.h)\n",
    "        scale_factor = slope.denominator\n",
    "\n",
    "        ##Arbitrarily assign x1000 scale to dims\n",
    "        proton_matrix = np.zeros(25*1000,25*1000,(self.h+self.hspace)*1000)\n",
    "\n",
    "        # Create each layer individually using parametric equations, step size, and height\n",
    "        for i in range(self.h):\n",
    "            proton_matrix(h, )\n"
   ]
  },
  {
   "cell_type": "markdown",
   "metadata": {},
   "source": [
    "For tomorrow: work on "
   ]
  },
  {
   "cell_type": "code",
   "execution_count": 9,
   "metadata": {},
   "outputs": [
    {
     "name": "stdout",
     "output_type": "stream",
     "text": [
      "1/100\n",
      "100\n"
     ]
    }
   ],
   "source": [
    "from fractions import Fraction\n",
    "\n",
    "slope = Fraction(1-0, 100)\n",
    "scale_factor = slope.denominator\n",
    "print(slope)\n",
    "print(scale_factor)"
   ]
  },
  {
   "cell_type": "code",
   "execution_count": 59,
   "metadata": {},
   "outputs": [],
   "source": [
    "c1 = Cylinder.create_cylinder(r1=10000, r2=9000, h=1000, hspace=10)"
   ]
  }
 ],
 "metadata": {
  "kernelspec": {
   "display_name": "Python 3",
   "language": "python",
   "name": "python3"
  },
  "language_info": {
   "codemirror_mode": {
    "name": "ipython",
    "version": 3
   },
   "file_extension": ".py",
   "mimetype": "text/x-python",
   "name": "python",
   "nbconvert_exporter": "python",
   "pygments_lexer": "ipython3",
   "version": "3.10.12"
  }
 },
 "nbformat": 4,
 "nbformat_minor": 2
}
