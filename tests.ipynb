{
 "cells": [
  {
   "cell_type": "markdown",
   "metadata": {},
   "source": [
    "Tests: \n",
    "Mapping changes to x wrt average distnace transforms \n",
    "Each test for changing x will have 2 graphs:\n",
    "1. avg distance transform from pillar to catalyst layer\n",
    "2. avg distance transfrom from oxygen surface to catalyst layer\n",
    "\n",
    "Different test ideas:\n",
    "I. Cylindrical Pillar\n",
    "1. Changing radius constant\n",
    "2. Changing height\n",
    "3. Changing sloped radius (bottom constant, top changing)\n",
    "4. Changing sloped radius (bottom changing, top constant)\n",
    "\n",
    "II. Rectangular Pillar\n",
    "1. Changing L:W Aspect Ratio \n",
    "2. Changing height\n",
    "3. Changing sloped aspect ratio (bottom constant, top changing)\n",
    "4. Changing sloped aspect ratio (bottom changing, top constant)\n",
    "\n",
    "Requirements:\n",
    "1. Function to generate a matrix and pillar structure for cylindrical\n",
    "2. Same for rectangular\n",
    "\n",
    "3. Avg distance transform helper function \n",
    "\n",
    "4. Plotting\n",
    "\n",
    "Some additional readings to do:\n",
    "1. Look into RL, Look into Bayesian"
   ]
  },
  {
   "cell_type": "markdown",
   "metadata": {},
   "source": [
    "Cylinder Class:\n",
    "\n",
    "1. Resolution (Sizing) must be high so that the curvature is approximated better \n",
    "2. Step size must be a constant integer so that each layer of the matrix has a constant integer increase/decrease\n",
    "\n",
    "Implementation:\n",
    "\n",
    "1. Enforce a x1000 scale-up on the original 25x25xh element design\n",
    "\n",
    "2. Static factory (its not enforced in python sadly but whatever) to make checks on the arguments. This ensures that stepsize is both constant and integer, as the args directly impact step size.\n"
   ]
  },
  {
   "cell_type": "code",
   "execution_count": 86,
   "metadata": {},
   "outputs": [],
   "source": [
    "import numpy as np\n",
    "from scipy.interpolate import RegularGridInterpolator\n",
    "from fractions import Fraction\n",
    "\n",
    "class Cylinder():\n",
    "\n",
    "    def __init__(self, r1, r2, h, hspace):\n",
    "        self.r1 = r1\n",
    "        self.r2 = r2\n",
    "        self.h = h\n",
    "        self.hspace = hspace\n",
    "\n",
    "    @classmethod\n",
    "    def create_cylinder(cls, r1, r2, h, hspace):\n",
    "        slope = Fraction(r1-r2, h)\n",
    "        if (slope % 1 != 0):\n",
    "            raise ValueError(\"Step size is not an integer. This wont work for gradual slope increase for matrix\")\n",
    "        if (r2 > 25000):\n",
    "            raise ValueError(\"Radii greater than element dimensions\")\n",
    "        return cls(r1, r2, h, hspace)\n",
    "\n",
    "    def construct_space(self):\n",
    "        # Create an empty matrix\n",
    "        matrix_size = (25 * 1000, 25 * 1000, (self.h + self.hspace) * 1000)\n",
    "        proton_matrix = np.zeros(matrix_size)\n",
    "\n",
    "        # Calculate coordinates\n",
    "        x = np.linspace(-25*1000, 25*1000-1, 25*1000*2)\n",
    "        y = np.linspace(-25*1000, 25*1000-1, 25*1000*2)\n",
    "        z = np.linspace(0, (self.h + self.hspace) * 1000 - 1, (self.h + self.hspace) * 1000)\n",
    "\n",
    "        X, Y, Z = np.meshgrid(x, y, z, indexing='ij')\n",
    "        \n",
    "        # Calculate radius at each height level\n",
    "        radius = self.r1 - (self.r1 - self.r2) * (Z / (self.h * 1000))\n",
    "        \n",
    "        # Create a distance transform from the center\n",
    "        dist_from_center = np.sqrt(X**2 + Y**2)\n",
    "        \n",
    "        # Fill the matrix where within the radius\n",
    "        proton_matrix[dist_from_center <= radius] = 1\n",
    "\n",
    "        return proton_matrix\n"
   ]
  },
  {
   "cell_type": "markdown",
   "metadata": {},
   "source": [
    "For tomorrow: work on "
   ]
  },
  {
   "cell_type": "code",
   "execution_count": 87,
   "metadata": {},
   "outputs": [
    {
     "name": "stdout",
     "output_type": "stream",
     "text": [
      "1/100\n",
      "100\n"
     ]
    }
   ],
   "source": [
    "from fractions import Fraction\n",
    "\n",
    "slope = Fraction(1-0, 100)\n",
    "scale_factor = slope.denominator\n",
    "print(slope)\n",
    "print(scale_factor)"
   ]
  },
  {
   "cell_type": "code",
   "execution_count": 88,
   "metadata": {},
   "outputs": [],
   "source": [
    "c1 = Cylinder.create_cylinder(r1=10, r2=5, h=5, hspace=0)"
   ]
  },
  {
   "cell_type": "code",
   "execution_count": 89,
   "metadata": {},
   "outputs": [
    {
     "ename": "IndentationError",
     "evalue": "expected an indented block after 'for' statement on line 21 (68381895.py, line 23)",
     "output_type": "error",
     "traceback": [
      "\u001b[1;36m  Cell \u001b[1;32mIn[89], line 23\u001b[1;36m\u001b[0m\n\u001b[1;33m    return space\u001b[0m\n\u001b[1;37m    ^\u001b[0m\n\u001b[1;31mIndentationError\u001b[0m\u001b[1;31m:\u001b[0m expected an indented block after 'for' statement on line 21\n"
     ]
    }
   ],
   "source": [
    "class Cylinder():\n",
    "\n",
    "    def __init__(self, dims, r1, r2, h, hspace):\n",
    "        self.dims = dims\n",
    "        self.r1 = r1\n",
    "        self.r2 = r2\n",
    "        self.h = h\n",
    "        self.hspace = hspace\n",
    "\n",
    "    @classmethod\n",
    "    def create_cylinder(cls, dims, r1, r2, h, hspace):\n",
    "        slope = Fraction(r1-r2, h)\n",
    "        if (slope % 1 != 0):\n",
    "            raise ValueError(f\"Step size is not an integer. Slope {slope}. This wont work for gradual slope increase for matrix\")\n",
    "        if (r2 > dims or r1 > dims):\n",
    "            raise ValueError(f\"Radii greater than element dimensions\")\n",
    "        return cls(dims, r1, r2, h, hspace)\n",
    "    \n",
    "    def construct_space(self):\n",
    "        space = np.zeros((self.dims, self.dims, self.h+self.hspace))\n",
    "        for layer in range(self.h):\n",
    "            \n",
    "        return space\n",
    "    \n",
    "\n",
    "c1 = Cylinder.create_cylinder(dims=5, r1=5, r2=1, h=4, hspace=7)\n",
    "space = c1.construct_space()\n",
    "print(space)"
   ]
  },
  {
   "cell_type": "code",
   "execution_count": null,
   "metadata": {},
   "outputs": [],
   "source": [
    "import numpy as np\n",
    "import matplotlib.pyplot as plt\n",
    "\n",
    "\n",
    "space = np.zeros((10, 10, 10))\n",
    "angles = np.linspace(0, 2*np.pi, 100)\n",
    "\n",
    "r = 10\n",
    "x = r*np.cos(angles)\n",
    "y = r*np.sin(angles)\n",
    "\n",
    "\n"
   ]
  },
  {
   "cell_type": "code",
   "execution_count": 173,
   "metadata": {},
   "outputs": [],
   "source": [
    "class Rect():\n",
    "    def __init__(self, dims, x, y, origin):\n",
    "        self.dims = dims\n",
    "        self.x = x\n",
    "        self.y = y\n",
    "        self.origin = origin\n",
    "    \n",
    "    @classmethod\n",
    "    def create_rect(cls, dims, x, y, origin: tuple):\n",
    "        if (origin[0]+x > dims or origin[1]+y > dims):\n",
    "            raise ValueError(f\"size of rect greater than dimensions provided. origin = {origin} x = {x}, y = {y}, dims={dims}\")\n",
    "        return Rect(dims, x, y, origin)\n",
    "    \n",
    "    def make_layer(self):\n",
    "        x = np.arange(self.dims)\n",
    "        y = np.arange(self.dims)\n",
    "        X, Y = np.meshgrid(x, y)\n",
    "\n",
    "        left = self.origin[0]\n",
    "        right = self.origin[0] + self.x - 1\n",
    "        top = self.origin[1]\n",
    "        bottom = self.origin[1] + self.y - 1\n",
    "\n",
    "        mask = (X >= left) & (X <= right) & (Y >= top) & (Y <= bottom)\n",
    "\n",
    "        return mask.astype(int)"
   ]
  },
  {
   "cell_type": "code",
   "execution_count": 174,
   "metadata": {},
   "outputs": [
    {
     "name": "stdout",
     "output_type": "stream",
     "text": [
      "[[1 1 0 0 0]\n",
      " [1 1 0 0 0]\n",
      " [0 0 0 0 0]\n",
      " [0 0 0 0 0]\n",
      " [0 0 0 0 0]]\n"
     ]
    }
   ],
   "source": [
    "r1 = Rect.create_rect(dims=5, x=2, y=2, origin=(0,0))\n",
    "print(r1.make_layer())\n",
    "\n",
    "# r2 = Rect.create_rect(dims=5, x=6, y=2, origin=(0,0))\n",
    "# print(r2.make_layer())\n",
    "\n",
    "# r3 = Rect.create_rect(dims=5, x=3, y=2, origin=(4,0))"
   ]
  },
  {
   "cell_type": "code",
   "execution_count": 161,
   "metadata": {},
   "outputs": [],
   "source": [
    "import numpy as np\n",
    "\n",
    "class Circle():\n",
    "    def __init__(self, dims, rx, ry, origin):\n",
    "        self.dims = dims\n",
    "        self.rx = rx\n",
    "        self.ry = ry\n",
    "        self.origin = origin\n",
    "    \n",
    "    @classmethod\n",
    "    def create_circle(cls, dims, rx, ry, origin: tuple):\n",
    "        if (origin[0] + rx + 1 > dims or origin[1] + ry + 1> dims) or (origin[0] - rx < 0 or origin[1] - ry < 0):\n",
    "            raise ValueError(f\"Circle does not fit in bounds defined by dims. Origin = {origin}, rx = {rx}, ry = {ry}, dims = {dims}\")\n",
    "        return Circle(dims, rx, ry, origin)\n",
    "    \n",
    "    def make_layer(self):\n",
    "        x = np.arange(self.dims)\n",
    "        y = np.arange(self.dims)\n",
    "        X, Y = np.meshgrid(x, y)\n",
    "        \n",
    "        center_x = self.dims // 2\n",
    "        center_y = self.dims // 2\n",
    "        \n",
    "        # Ellipse mask\n",
    "        ellipse = ((X - center_x) ** 2 / self.rx ** 2 + (Y - center_y) ** 2 / self.ry ** 2) <= 1\n",
    "        \n",
    "        # Convert boolean array to integers\n",
    "        return ellipse.astype(int)"
   ]
  },
  {
   "cell_type": "code",
   "execution_count": 167,
   "metadata": {},
   "outputs": [
    {
     "name": "stdout",
     "output_type": "stream",
     "text": [
      "[[0 0 0 0 0 0 0 0 0 0]\n",
      " [0 0 0 0 0 1 0 0 0 0]\n",
      " [0 0 0 0 1 1 1 0 0 0]\n",
      " [0 0 0 0 1 1 1 0 0 0]\n",
      " [0 0 0 0 1 1 1 0 0 0]\n",
      " [0 0 0 1 1 1 1 1 0 0]\n",
      " [0 0 0 0 1 1 1 0 0 0]\n",
      " [0 0 0 0 1 1 1 0 0 0]\n",
      " [0 0 0 0 1 1 1 0 0 0]\n",
      " [0 0 0 0 0 1 0 0 0 0]]\n"
     ]
    }
   ],
   "source": [
    "c1 = Circle.create_circle(dims=10, rx=2, ry=4, origin=(5,5))\n",
    "layer = c1.make_layer()\n",
    "print(layer)\n",
    "# c2 = Circle.create_circle(dims=100, x=20, y=20, origin=(0,50))\n",
    "# c3 = Circle.create_circle(dims=100, x=70, y=20, origin=(50,50))"
   ]
  },
  {
   "cell_type": "code",
   "execution_count": 181,
   "metadata": {},
   "outputs": [],
   "source": [
    "class Cylinder():\n",
    "    def __init__(self, dims, height, r1x, r1y, r2x, r2y, origin):\n",
    "        self.dims = dims\n",
    "        self.height = height\n",
    "        self.r1x = r1x\n",
    "        self.r1y = r1y\n",
    "        self.r2x = r2x\n",
    "        self.r2y = r2y\n",
    "        self.origin = origin\n",
    "    \n",
    "    @classmethod\n",
    "    def create_cylinder(cls, dims, height, r1x, r1y, r2x, r2y, origin: tuple):\n",
    "        if (origin[0] + r1x + 1 > dims or origin[1] + r1y + 1> dims) or (origin[0] - r1x < 0 or origin[1] - r1y < 0) or (origin[0] + r2x + 1 > dims or origin[1] + r2y + 1> dims) or (origin[0] - r2x < 0 or origin[1] - r2y < 0):\n",
    "            raise ValueError(f\"Circle does not fit in bounds defined by dims. Origin = {origin}, r1x = {r1x}, r1y = {r1y}, r2x = {r2x}, r2y = {r2y}, dims = {dims}\")\n",
    "        return Cylinder(dims, height, r1x, r1y, r2x, r2y, origin)\n",
    "    \n",
    "    def make_geometry(self):\n",
    "        space = np.zeros((self.height, self.dims, self.dims), dtype=int)\n",
    "        for i in range(self.height):\n",
    "            circle = Circle.create_circle(dims=self.dims, rx=self.r1x, ry=self.r1y, origin=self.origin)\n",
    "            space[i] = circle.make_layer()\n",
    "        return space"
   ]
  },
  {
   "cell_type": "code",
   "execution_count": 190,
   "metadata": {},
   "outputs": [
    {
     "name": "stdout",
     "output_type": "stream",
     "text": [
      "[[[0 0 0 ... 0 0 0]\n",
      "  [0 0 0 ... 0 0 0]\n",
      "  [0 0 0 ... 0 0 0]\n",
      "  ...\n",
      "  [0 0 0 ... 0 0 0]\n",
      "  [0 0 0 ... 0 0 0]\n",
      "  [0 0 0 ... 0 0 0]]\n",
      "\n",
      " [[0 0 0 ... 0 0 0]\n",
      "  [0 0 0 ... 0 0 0]\n",
      "  [0 0 0 ... 0 0 0]\n",
      "  ...\n",
      "  [0 0 0 ... 0 0 0]\n",
      "  [0 0 0 ... 0 0 0]\n",
      "  [0 0 0 ... 0 0 0]]\n",
      "\n",
      " [[0 0 0 ... 0 0 0]\n",
      "  [0 0 0 ... 0 0 0]\n",
      "  [0 0 0 ... 0 0 0]\n",
      "  ...\n",
      "  [0 0 0 ... 0 0 0]\n",
      "  [0 0 0 ... 0 0 0]\n",
      "  [0 0 0 ... 0 0 0]]\n",
      "\n",
      " [[0 0 0 ... 0 0 0]\n",
      "  [0 0 0 ... 0 0 0]\n",
      "  [0 0 0 ... 0 0 0]\n",
      "  ...\n",
      "  [0 0 0 ... 0 0 0]\n",
      "  [0 0 0 ... 0 0 0]\n",
      "  [0 0 0 ... 0 0 0]]\n",
      "\n",
      " [[0 0 0 ... 0 0 0]\n",
      "  [0 0 0 ... 0 0 0]\n",
      "  [0 0 0 ... 0 0 0]\n",
      "  ...\n",
      "  [0 0 0 ... 0 0 0]\n",
      "  [0 0 0 ... 0 0 0]\n",
      "  [0 0 0 ... 0 0 0]]]\n"
     ]
    }
   ],
   "source": [
    "c1 = Cylinder.create_cylinder(dims=250, height=5, r1x=60, r2x=60, r1y=30, r2y=30, origin=(120,120))\n",
    "print(c1.make_geometry())"
   ]
  }
 ],
 "metadata": {
  "kernelspec": {
   "display_name": "Python 3",
   "language": "python",
   "name": "python3"
  },
  "language_info": {
   "codemirror_mode": {
    "name": "ipython",
    "version": 3
   },
   "file_extension": ".py",
   "mimetype": "text/x-python",
   "name": "python",
   "nbconvert_exporter": "python",
   "pygments_lexer": "ipython3",
   "version": "3.12.5"
  }
 },
 "nbformat": 4,
 "nbformat_minor": 2
}
